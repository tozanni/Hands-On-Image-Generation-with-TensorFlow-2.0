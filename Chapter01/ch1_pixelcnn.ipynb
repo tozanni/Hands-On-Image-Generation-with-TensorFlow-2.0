{
  "cells": [
    {
      "cell_type": "markdown",
      "metadata": {
        "id": "view-in-github",
        "colab_type": "text"
      },
      "source": [
        "<a href=\"https://colab.research.google.com/github/tozanni/Hands-On-Image-Generation-with-TensorFlow-2.0/blob/master/Chapter01/ch1_pixelcnn.ipynb\" target=\"_parent\"><img src=\"https://colab.research.google.com/assets/colab-badge.svg\" alt=\"Open In Colab\"/></a>"
      ]
    },
    {
      "cell_type": "markdown",
      "source": [
        "Cuaderno de apoyo del libro\n",
        "\n",
        "*Hands-On Image Generation with TensorFlow, de Soon Yau Cheong. Packt Publishing*\n",
        "\n",
        "https://www.packtpub.com/product/hands-on-image-generation-with-tensorflow/9781838826789\n",
        "\n",
        "Versión original:\n",
        "\n",
        "https://github.com/PacktPublishing/Hands-On-Image-Generation-with-TensorFlow-2.0/blob/master/Chapter01/ch1_pixelcnn.ipynb\n",
        "\n",
        "\n"
      ],
      "metadata": {
        "id": "igX2vv2XufBf"
      }
    },
    {
      "cell_type": "markdown",
      "source": [
        "Carga de librerías (actualizado para Python 3.8).\n",
        "\n",
        "**OJO:** Utilizar un backend de GPU en Colab"
      ],
      "metadata": {
        "id": "PWfnbTgDvDHV"
      }
    },
    {
      "cell_type": "code",
      "execution_count": 8,
      "metadata": {
        "id": "EXDVCyJlIA-3"
      },
      "outputs": [],
      "source": [
        "import tensorflow as tf\n",
        "from tensorflow.keras import layers\n",
        "from tensorflow.keras.activations import relu\n",
        "from tensorflow.keras.models import Sequential\n",
        "\n",
        "import tensorflow_datasets as tfds\n",
        "\n",
        "import numpy as np\n",
        "import matplotlib.pyplot as plt\n",
        "\n",
        "import warnings\n",
        "warnings.filterwarnings('ignore')"
      ]
    },
    {
      "cell_type": "markdown",
      "metadata": {
        "id": "Zwvlk-ywIA-7"
      },
      "source": [
        "## Cargar dataset MNIST"
      ]
    },
    {
      "cell_type": "code",
      "execution_count": 2,
      "metadata": {
        "colab": {
          "base_uri": "https://localhost:8080/",
          "height": 105,
          "referenced_widgets": [
            "9a0f7a6f7d8245408c46bbb43d747009",
            "f2904b7371f94b6c8925631a6dff2b1c",
            "f71471e211f04d1c9a48453c9bc81cea",
            "8d208059aa094df68ea6ad288fbebc97",
            "d1cd00b2bf5644b895646f570e99ead5",
            "d4fbfa97d1f24f2b9daae3686e50a866",
            "a8ca293df50440b2a9178a9e051639a2",
            "f721ce156e6843139b9e55bbb6c4b4b0",
            "7f8cc37dda384a9c965571bdb2357609",
            "fec65bbb347d4caf942cc7674eac33d6",
            "e51ab504c3b942bcb8412b1e227ced2f"
          ]
        },
        "id": "Yrgxzax1IA-8",
        "outputId": "83536029-2d60-4e3b-d8bb-fb3110778f29"
      },
      "outputs": [
        {
          "output_type": "stream",
          "name": "stdout",
          "text": [
            "\u001b[1mDownloading and preparing dataset 11.06 MiB (download: 11.06 MiB, generated: 21.00 MiB, total: 32.06 MiB) to ~/tensorflow_datasets/mnist/3.0.1...\u001b[0m\n"
          ]
        },
        {
          "output_type": "display_data",
          "data": {
            "text/plain": [
              "Dl Completed...:   0%|          | 0/4 [00:00<?, ? file/s]"
            ],
            "application/vnd.jupyter.widget-view+json": {
              "version_major": 2,
              "version_minor": 0,
              "model_id": "9a0f7a6f7d8245408c46bbb43d747009"
            }
          },
          "metadata": {}
        },
        {
          "output_type": "stream",
          "name": "stdout",
          "text": [
            "\u001b[1mDataset mnist downloaded and prepared to ~/tensorflow_datasets/mnist/3.0.1. Subsequent calls will reuse this data.\u001b[0m\n"
          ]
        }
      ],
      "source": [
        "(ds_train, ds_test), ds_info = tfds.load('mnist', \n",
        "                              split=['test', 'test'], \n",
        "                              shuffle_files=True,\n",
        "                              as_supervised=True,\n",
        "                              with_info=True)\n",
        "\n",
        "#fig = tfds.show_examples(ds_info, ds_train)\n",
        "\n",
        "def binarize(image, label):\n",
        "    image = tf.cast(image, tf.float32)\n",
        "    image = tf.math.round(image/255.)\n",
        "    return image, tf.cast(image, tf.int32)\n",
        "\n",
        "ds_train = ds_train.map(binarize)\n",
        "ds_train = ds_train.cache() # put dataset into memory\n",
        "ds_train = ds_train.shuffle(ds_info.splits['train'].num_examples)\n",
        "ds_train = ds_train.batch(64)\n",
        "ds_test = ds_test.map(binarize).batch(64).cache().prefetch(64)"
      ]
    },
    {
      "cell_type": "markdown",
      "metadata": {
        "id": "KGixA6XLIA--"
      },
      "source": [
        "# Creación de capas custom y modelo PixelCNN"
      ]
    },
    {
      "cell_type": "code",
      "execution_count": 3,
      "metadata": {
        "colab": {
          "base_uri": "https://localhost:8080/"
        },
        "id": "p-mfm53lIA--",
        "outputId": "f8046fe0-cd46-43db-ad53-0f87e02e9e54"
      },
      "outputs": [
        {
          "output_type": "stream",
          "name": "stdout",
          "text": [
            "Model: \"PixelCnn\"\n",
            "_________________________________________________________________\n",
            " Layer (type)                Output Shape              Param #   \n",
            "=================================================================\n",
            " input_1 (InputLayer)        [(None, 28, 28, 1)]       0         \n",
            "                                                                 \n",
            " masked_conv2d (MaskedConv2D  (None, 28, 28, 128)      6400      \n",
            " )                                                               \n",
            "                                                                 \n",
            " residual_block (ResidualBlo  (None, 28, 28, 128)      53504     \n",
            " ck)                                                             \n",
            "                                                                 \n",
            " residual_block_1 (ResidualB  (None, 28, 28, 128)      53504     \n",
            " lock)                                                           \n",
            "                                                                 \n",
            " residual_block_2 (ResidualB  (None, 28, 28, 128)      53504     \n",
            " lock)                                                           \n",
            "                                                                 \n",
            " residual_block_3 (ResidualB  (None, 28, 28, 128)      53504     \n",
            " lock)                                                           \n",
            "                                                                 \n",
            " residual_block_4 (ResidualB  (None, 28, 28, 128)      53504     \n",
            " lock)                                                           \n",
            "                                                                 \n",
            " residual_block_5 (ResidualB  (None, 28, 28, 128)      53504     \n",
            " lock)                                                           \n",
            "                                                                 \n",
            " residual_block_6 (ResidualB  (None, 28, 28, 128)      53504     \n",
            " lock)                                                           \n",
            "                                                                 \n",
            " conv2d (Conv2D)             (None, 28, 28, 64)        8256      \n",
            "                                                                 \n",
            " conv2d_1 (Conv2D)           (None, 28, 28, 1)         65        \n",
            "                                                                 \n",
            "=================================================================\n",
            "Total params: 389,249\n",
            "Trainable params: 389,249\n",
            "Non-trainable params: 0\n",
            "_________________________________________________________________\n"
          ]
        }
      ],
      "source": [
        "class MaskedConv2D(layers.Layer):\n",
        "    def __init__(self, mask_type, kernel=5, filters=1):\n",
        "        super(MaskedConv2D, self).__init__()\n",
        "        self.kernel = kernel\n",
        "        self.filters = filters\n",
        "        self.mask_type = mask_type\n",
        "        \n",
        "    def build(self, input_shape):\n",
        "\n",
        "        self.w = self.add_weight(shape=[self.kernel,\n",
        "                                        self.kernel,\n",
        "                                        input_shape[-1],\n",
        "                                        self.filters],\n",
        "                                initializer='glorot_normal',\n",
        "                                trainable=True)\n",
        "        \n",
        "        self.b = self.add_weight(shape=(self.filters,),\n",
        "                                initializer='zeros',\n",
        "                                trainable=True)\n",
        "        # Create Mask \n",
        "        mask = np.ones(self.kernel**2, dtype=np.float32)\n",
        "        center = len(mask)//2\n",
        "        mask[center+1:] = 0\n",
        "        if self.mask_type == 'A':\n",
        "            mask[center] = 0\n",
        "            \n",
        "        mask = mask.reshape((self.kernel, self.kernel, 1, 1))\n",
        "        \n",
        "        self.mask = tf.constant(mask, dtype='float32')\n",
        "        \n",
        "    def call(self, inputs):\n",
        "        # mask the convolution\n",
        "        masked_w = tf.math.multiply(self.w, self.mask)\n",
        "\n",
        "        # perform conv2d using low level API\n",
        "        output = tf.nn.conv2d(inputs, masked_w, 1, \"SAME\") + self.b\n",
        "        \n",
        "        return tf.nn.relu(output)\n",
        "    \n",
        "class ResidualBlock(layers.Layer):\n",
        "    def __init__(self, h=32):\n",
        "        super(ResidualBlock, self).__init__()\n",
        "\n",
        "        self.forward = Sequential([MaskedConv2D('B', kernel=1, filters=h),\n",
        "                                   MaskedConv2D('B', kernel=3, filters=h),\n",
        "                                   MaskedConv2D('B', kernel=1, filters=2*h)])         \n",
        "    def call(self, inputs):\n",
        "        x = self.forward(inputs)\n",
        "        return x + inputs\n",
        "    \n",
        "def SimplePixelCnn(hidden_features=64, \n",
        "                   output_features=64, \n",
        "                   resblocks_num=7):\n",
        "\n",
        "    inputs  = layers.Input(shape=[28,28,1])\n",
        "    x = inputs\n",
        "    \n",
        "    x = MaskedConv2D('A',kernel=7, filters=2*hidden_features)(x)\n",
        "\n",
        "    for _ in range(resblocks_num):\n",
        "        x = ResidualBlock(hidden_features)(x)\n",
        "        \n",
        "    x = layers.Conv2D(output_features, (1,1), padding='same', activation='relu')(x)    \n",
        "    x = layers.Conv2D(1, (1,1), padding='same', activation='sigmoid')(x)\n",
        "            \n",
        "    return tf.keras.Model(inputs=inputs, outputs=x, name='PixelCnn')\n",
        "\n",
        "pixel_cnn = SimplePixelCnn()\n",
        "pixel_cnn.summary()"
      ]
    },
    {
      "cell_type": "markdown",
      "metadata": {
        "id": "XMOrpEZ1IA_A"
      },
      "source": [
        "# Train"
      ]
    },
    {
      "cell_type": "code",
      "execution_count": 4,
      "metadata": {
        "colab": {
          "base_uri": "https://localhost:8080/"
        },
        "id": "7aWTFUxGIA_A",
        "outputId": "ed4859ba-4a82-4e54-b0df-effa63ecf179"
      },
      "outputs": [
        {
          "output_type": "stream",
          "name": "stdout",
          "text": [
            "Epoch 1/50\n",
            "157/157 [==============================] - 35s 94ms/step - loss: 0.1416 - binary_crossentropy: 0.1414 - val_loss: 0.1001 - val_binary_crossentropy: 0.1001\n",
            "Epoch 2/50\n",
            "157/157 [==============================] - 14s 91ms/step - loss: 0.1021 - binary_crossentropy: 0.1021 - val_loss: 0.0991 - val_binary_crossentropy: 0.0991\n",
            "Epoch 3/50\n",
            "157/157 [==============================] - 15s 94ms/step - loss: 0.0974 - binary_crossentropy: 0.0974 - val_loss: 0.0938 - val_binary_crossentropy: 0.0938\n",
            "Epoch 4/50\n",
            "157/157 [==============================] - 15s 94ms/step - loss: 0.0939 - binary_crossentropy: 0.0939 - val_loss: 0.0937 - val_binary_crossentropy: 0.0937\n",
            "Epoch 5/50\n",
            "157/157 [==============================] - 15s 96ms/step - loss: 0.0921 - binary_crossentropy: 0.0921 - val_loss: 0.0917 - val_binary_crossentropy: 0.0917\n",
            "Epoch 6/50\n",
            "157/157 [==============================] - 15s 93ms/step - loss: 0.0908 - binary_crossentropy: 0.0908 - val_loss: 0.0932 - val_binary_crossentropy: 0.0932\n",
            "Epoch 7/50\n",
            "157/157 [==============================] - 15s 93ms/step - loss: 0.0897 - binary_crossentropy: 0.0897 - val_loss: 0.0898 - val_binary_crossentropy: 0.0898\n",
            "Epoch 8/50\n",
            "157/157 [==============================] - 15s 94ms/step - loss: 0.0888 - binary_crossentropy: 0.0888 - val_loss: 0.0904 - val_binary_crossentropy: 0.0904\n",
            "Epoch 9/50\n",
            "157/157 [==============================] - 15s 94ms/step - loss: 0.0882 - binary_crossentropy: 0.0882 - val_loss: 0.0883 - val_binary_crossentropy: 0.0883\n",
            "Epoch 10/50\n",
            "157/157 [==============================] - 15s 94ms/step - loss: 0.0876 - binary_crossentropy: 0.0875 - val_loss: 0.0898 - val_binary_crossentropy: 0.0898\n",
            "Epoch 11/50\n",
            "157/157 [==============================] - 15s 94ms/step - loss: 0.0870 - binary_crossentropy: 0.0870 - val_loss: 0.0863 - val_binary_crossentropy: 0.0863\n",
            "Epoch 12/50\n",
            "157/157 [==============================] - 15s 93ms/step - loss: 0.0865 - binary_crossentropy: 0.0865 - val_loss: 0.0889 - val_binary_crossentropy: 0.0889\n",
            "Epoch 13/50\n",
            "157/157 [==============================] - 15s 93ms/step - loss: 0.0862 - binary_crossentropy: 0.0862 - val_loss: 0.0867 - val_binary_crossentropy: 0.0867\n",
            "Epoch 14/50\n",
            "157/157 [==============================] - 15s 93ms/step - loss: 0.0858 - binary_crossentropy: 0.0857 - val_loss: 0.0856 - val_binary_crossentropy: 0.0856\n",
            "Epoch 15/50\n",
            "157/157 [==============================] - 15s 93ms/step - loss: 0.0854 - binary_crossentropy: 0.0853 - val_loss: 0.0856 - val_binary_crossentropy: 0.0856\n",
            "Epoch 16/50\n",
            "157/157 [==============================] - 15s 94ms/step - loss: 0.0851 - binary_crossentropy: 0.0851 - val_loss: 0.0847 - val_binary_crossentropy: 0.0847\n",
            "Epoch 17/50\n",
            "157/157 [==============================] - 16s 105ms/step - loss: 0.0847 - binary_crossentropy: 0.0847 - val_loss: 0.0843 - val_binary_crossentropy: 0.0843\n",
            "Epoch 18/50\n",
            "157/157 [==============================] - 15s 93ms/step - loss: 0.0844 - binary_crossentropy: 0.0844 - val_loss: 0.0861 - val_binary_crossentropy: 0.0861\n",
            "Epoch 19/50\n",
            "157/157 [==============================] - 15s 93ms/step - loss: 0.0841 - binary_crossentropy: 0.0841 - val_loss: 0.0848 - val_binary_crossentropy: 0.0848\n",
            "Epoch 20/50\n",
            "157/157 [==============================] - 15s 93ms/step - loss: 0.0838 - binary_crossentropy: 0.0838 - val_loss: 0.0845 - val_binary_crossentropy: 0.0845\n",
            "Epoch 21/50\n",
            "157/157 [==============================] - 15s 94ms/step - loss: 0.0836 - binary_crossentropy: 0.0836 - val_loss: 0.0846 - val_binary_crossentropy: 0.0846\n",
            "Epoch 22/50\n",
            "157/157 [==============================] - 15s 94ms/step - loss: 0.0832 - binary_crossentropy: 0.0833 - val_loss: 0.0848 - val_binary_crossentropy: 0.0848\n",
            "Epoch 23/50\n",
            "157/157 [==============================] - 15s 93ms/step - loss: 0.0830 - binary_crossentropy: 0.0830 - val_loss: 0.0847 - val_binary_crossentropy: 0.0846\n",
            "Epoch 24/50\n",
            "157/157 [==============================] - 15s 93ms/step - loss: 0.0827 - binary_crossentropy: 0.0827 - val_loss: 0.0834 - val_binary_crossentropy: 0.0834\n",
            "Epoch 25/50\n",
            "157/157 [==============================] - 15s 93ms/step - loss: 0.0825 - binary_crossentropy: 0.0825 - val_loss: 0.0840 - val_binary_crossentropy: 0.0839\n",
            "Epoch 26/50\n",
            "157/157 [==============================] - 15s 93ms/step - loss: 0.0822 - binary_crossentropy: 0.0822 - val_loss: 0.0830 - val_binary_crossentropy: 0.0830\n",
            "Epoch 27/50\n",
            "157/157 [==============================] - 15s 93ms/step - loss: 0.0819 - binary_crossentropy: 0.0820 - val_loss: 0.0820 - val_binary_crossentropy: 0.0820\n",
            "Epoch 28/50\n",
            "157/157 [==============================] - 15s 93ms/step - loss: 0.0817 - binary_crossentropy: 0.0817 - val_loss: 0.0818 - val_binary_crossentropy: 0.0818\n",
            "Epoch 29/50\n",
            "157/157 [==============================] - 15s 93ms/step - loss: 0.0814 - binary_crossentropy: 0.0814 - val_loss: 0.0835 - val_binary_crossentropy: 0.0835\n",
            "Epoch 30/50\n",
            "157/157 [==============================] - 15s 93ms/step - loss: 0.0812 - binary_crossentropy: 0.0812 - val_loss: 0.0813 - val_binary_crossentropy: 0.0813\n",
            "Epoch 31/50\n",
            "157/157 [==============================] - 15s 93ms/step - loss: 0.0809 - binary_crossentropy: 0.0809 - val_loss: 0.0813 - val_binary_crossentropy: 0.0813\n",
            "Epoch 32/50\n",
            "157/157 [==============================] - 15s 94ms/step - loss: 0.0808 - binary_crossentropy: 0.0808 - val_loss: 0.0808 - val_binary_crossentropy: 0.0808\n",
            "Epoch 33/50\n",
            "157/157 [==============================] - 15s 93ms/step - loss: 0.0804 - binary_crossentropy: 0.0804 - val_loss: 0.0810 - val_binary_crossentropy: 0.0809\n",
            "Epoch 34/50\n",
            "157/157 [==============================] - 15s 93ms/step - loss: 0.0802 - binary_crossentropy: 0.0802 - val_loss: 0.0797 - val_binary_crossentropy: 0.0797\n",
            "Epoch 35/50\n",
            "157/157 [==============================] - 15s 93ms/step - loss: 0.0800 - binary_crossentropy: 0.0800 - val_loss: 0.0796 - val_binary_crossentropy: 0.0796\n",
            "Epoch 36/50\n",
            "157/157 [==============================] - 15s 94ms/step - loss: 0.0797 - binary_crossentropy: 0.0797 - val_loss: 0.0802 - val_binary_crossentropy: 0.0802\n",
            "Epoch 37/50\n",
            "157/157 [==============================] - 15s 93ms/step - loss: 0.0795 - binary_crossentropy: 0.0794 - val_loss: 0.0797 - val_binary_crossentropy: 0.0797\n",
            "Epoch 38/50\n",
            "157/157 [==============================] - 15s 93ms/step - loss: 0.0792 - binary_crossentropy: 0.0791 - val_loss: 0.0804 - val_binary_crossentropy: 0.0804\n",
            "Epoch 39/50\n",
            "157/157 [==============================] - 15s 93ms/step - loss: 0.0790 - binary_crossentropy: 0.0790 - val_loss: 0.0797 - val_binary_crossentropy: 0.0797\n",
            "Epoch 40/50\n",
            "157/157 [==============================] - 15s 93ms/step - loss: 0.0787 - binary_crossentropy: 0.0787 - val_loss: 0.0791 - val_binary_crossentropy: 0.0791\n",
            "Epoch 41/50\n",
            "157/157 [==============================] - 15s 93ms/step - loss: 0.0785 - binary_crossentropy: 0.0784 - val_loss: 0.0779 - val_binary_crossentropy: 0.0779\n",
            "Epoch 42/50\n",
            "157/157 [==============================] - 15s 94ms/step - loss: 0.0782 - binary_crossentropy: 0.0782 - val_loss: 0.0788 - val_binary_crossentropy: 0.0788\n",
            "Epoch 43/50\n",
            "157/157 [==============================] - 15s 93ms/step - loss: 0.0780 - binary_crossentropy: 0.0780 - val_loss: 0.0789 - val_binary_crossentropy: 0.0789\n",
            "Epoch 44/50\n",
            "157/157 [==============================] - 15s 93ms/step - loss: 0.0777 - binary_crossentropy: 0.0777 - val_loss: 0.0778 - val_binary_crossentropy: 0.0778\n",
            "Epoch 45/50\n",
            "157/157 [==============================] - 15s 93ms/step - loss: 0.0775 - binary_crossentropy: 0.0775 - val_loss: 0.0777 - val_binary_crossentropy: 0.0777\n",
            "Epoch 46/50\n",
            "157/157 [==============================] - 15s 93ms/step - loss: 0.0773 - binary_crossentropy: 0.0773 - val_loss: 0.0779 - val_binary_crossentropy: 0.0779\n",
            "Epoch 47/50\n",
            "157/157 [==============================] - 15s 93ms/step - loss: 0.0771 - binary_crossentropy: 0.0771 - val_loss: 0.0782 - val_binary_crossentropy: 0.0782\n",
            "Epoch 48/50\n",
            "157/157 [==============================] - 15s 94ms/step - loss: 0.0768 - binary_crossentropy: 0.0768 - val_loss: 0.0775 - val_binary_crossentropy: 0.0775\n",
            "Epoch 49/50\n",
            "157/157 [==============================] - 15s 93ms/step - loss: 0.0766 - binary_crossentropy: 0.0766 - val_loss: 0.0774 - val_binary_crossentropy: 0.0774\n",
            "Epoch 50/50\n",
            "157/157 [==============================] - 15s 93ms/step - loss: 0.0764 - binary_crossentropy: 0.0764 - val_loss: 0.0776 - val_binary_crossentropy: 0.0776\n"
          ]
        },
        {
          "output_type": "execute_result",
          "data": {
            "text/plain": [
              "<keras.callbacks.History at 0x7f18903e6f50>"
            ]
          },
          "metadata": {},
          "execution_count": 4
        }
      ],
      "source": [
        "pixel_cnn.compile(\n",
        "    loss = tf.keras.losses.BinaryCrossentropy(),\n",
        "    optimizer=tf.keras.optimizers.RMSprop(learning_rate=0.001),\n",
        "    metrics=[tf.keras.losses.BinaryCrossentropy()])\n",
        "\n",
        "pixel_cnn.fit(ds_train, epochs = 50, validation_data=ds_test)"
      ]
    },
    {
      "cell_type": "markdown",
      "metadata": {
        "id": "w0wPmKUcIA_B"
      },
      "source": [
        "# Muestrea y despliega imágenes\n",
        "\n",
        "Para producir las imágenes recorremos pixel por pixel, obteniendo la distribución de probabilidad de cada uno de los pixeles y luego sampleando un pixel aleatorio a partir de la misma."
      ]
    },
    {
      "cell_type": "code",
      "execution_count": 41,
      "metadata": {
        "id": "AY7B7gCcIA_C"
      },
      "outputs": [],
      "source": [
        "grid_row = 5\n",
        "grid_col = 5\n",
        "batch = grid_row * grid_col\n",
        "h = 28 #Solo la mitad de la imagen h=14\n",
        "w = 28 \n",
        "\n",
        "# Generamos un batch de imágenes con 1's \n",
        "images = np.ones((batch,h,w,1), dtype=np.float32)\n",
        "\n",
        "#images.shape es (25, 28, 28, 1)\n",
        "for row in range(h):\n",
        "    for col in range(w):\n",
        "\n",
        "        #Obtenemos la probabilidad correspondiente a cada pixel (es solo un valor ya que\n",
        "        #es una distribucion categórica con probabilidad P y 1-P)\n",
        "        prob = pixel_cnn.predict(images)[:,row,col,0]\n",
        "\n",
        "        #Sampleamos las distribuciones de probabilidad categoricas para cada imagen\n",
        "        pixel_samples = tf.random.categorical(tf.math.log(np.stack([1-prob, prob],1)), 1)\n",
        "        \n",
        "        #Reemplazamos los pixeles recien generados en images\n",
        "        images[:,row,col,0] = tf.reshape(pixel_samples,[batch])\n"
      ]
    },
    {
      "cell_type": "code",
      "execution_count": 42,
      "metadata": {
        "colab": {
          "base_uri": "https://localhost:8080/",
          "height": 369
        },
        "id": "ZoFV4mD2IA_D",
        "outputId": "0d40f3d6-94b9-469b-c0b6-f8a6f7632040"
      },
      "outputs": [
        {
          "output_type": "display_data",
          "data": {
            "text/plain": [
              "<Figure size 396x360 with 25 Axes>"
            ],
            "image/png": "[encoded data removed]"
          },
          "metadata": {
            "needs_background": "light"
          }
        }
      ],
      "source": [
        "# Desplegar las 25 imágenes generadas\n",
        "\n",
        "f, axarr = plt.subplots(grid_row, grid_col, figsize=(grid_col*1.1,grid_row))\n",
        "\n",
        "i = 0\n",
        "for row in range(grid_row):\n",
        "    for col in range(grid_col):\n",
        "        axarr[row,col].imshow(images[i,:,:,0], cmap='gray')\n",
        "        axarr[row,col].axis('off')\n",
        "        i += 1\n",
        "f.tight_layout(0.1, h_pad=0.2, w_pad=0.1)        \n",
        "plt.show()"
      ]
    }
  ],
  "metadata": {
    "kernelspec": {
      "display_name": "Python 3",
      "name": "python3"
    },
    "language_info": {
      "name": "python"
    },
    "colab": {
      "name": "ch1_pixelcnn.ipynb",
      "provenance": [],
      "include_colab_link": true
    },
    "accelerator": "GPU",
    "gpuClass": "standard",
    "widgets": {
      "application/vnd.jupyter.widget-state+json": {
        "9a0f7a6f7d8245408c46bbb43d747009": {
          "model_module": "@jupyter-widgets/controls",
          "model_name": "HBoxModel",
          "model_module_version": "1.5.0",
          "state": {
            "_dom_classes": [],
            "_model_module": "@jupyter-widgets/controls",
            "_model_module_version": "1.5.0",
            "_model_name": "HBoxModel",
            "_view_count": null,
            "_view_module": "@jupyter-widgets/controls",
            "_view_module_version": "1.5.0",
            "_view_name": "HBoxView",
            "box_style": "",
            "children": [
              "IPY_MODEL_f2904b7371f94b6c8925631a6dff2b1c",
              "IPY_MODEL_f71471e211f04d1c9a48453c9bc81cea",
              "IPY_MODEL_8d208059aa094df68ea6ad288fbebc97"
            ],
            "layout": "IPY_MODEL_d1cd00b2bf5644b895646f570e99ead5"
          }
        },
        "f2904b7371f94b6c8925631a6dff2b1c": {
          "model_module": "@jupyter-widgets/controls",
          "model_name": "HTMLModel",
          "model_module_version": "1.5.0",
          "state": {
            "_dom_classes": [],
            "_model_module": "@jupyter-widgets/controls",
            "_model_module_version": "1.5.0",
            "_model_name": "HTMLModel",
            "_view_count": null,
            "_view_module": "@jupyter-widgets/controls",
            "_view_module_version": "1.5.0",
            "_view_name": "HTMLView",
            "description": "",
            "description_tooltip": null,
            "layout": "IPY_MODEL_d4fbfa97d1f24f2b9daae3686e50a866",
            "placeholder": "​",
            "style": "IPY_MODEL_a8ca293df50440b2a9178a9e051639a2",
            "value": "Dl Completed...: 100%"
          }
        },
        "f71471e211f04d1c9a48453c9bc81cea": {
          "model_module": "@jupyter-widgets/controls",
          "model_name": "FloatProgressModel",
          "model_module_version": "1.5.0",
          "state": {
            "_dom_classes": [],
            "_model_module": "@jupyter-widgets/controls",
            "_model_module_version": "1.5.0",
            "_model_name": "FloatProgressModel",
            "_view_count": null,
            "_view_module": "@jupyter-widgets/controls",
            "_view_module_version": "1.5.0",
            "_view_name": "ProgressView",
            "bar_style": "success",
            "description": "",
            "description_tooltip": null,
            "layout": "IPY_MODEL_f721ce156e6843139b9e55bbb6c4b4b0",
            "max": 4,
            "min": 0,
            "orientation": "horizontal",
            "style": "IPY_MODEL_7f8cc37dda384a9c965571bdb2357609",
            "value": 4
          }
        },
        "8d208059aa094df68ea6ad288fbebc97": {
          "model_module": "@jupyter-widgets/controls",
          "model_name": "HTMLModel",
          "model_module_version": "1.5.0",
          "state": {
            "_dom_classes": [],
            "_model_module": "@jupyter-widgets/controls",
            "_model_module_version": "1.5.0",
            "_model_name": "HTMLModel",
            "_view_count": null,
            "_view_module": "@jupyter-widgets/controls",
            "_view_module_version": "1.5.0",
            "_view_name": "HTMLView",
            "description": "",
            "description_tooltip": null,
            "layout": "IPY_MODEL_fec65bbb347d4caf942cc7674eac33d6",
            "placeholder": "​",
            "style": "IPY_MODEL_e51ab504c3b942bcb8412b1e227ced2f",
            "value": " 4/4 [00:03&lt;00:00,  1.24s/ file]"
          }
        },
        "d1cd00b2bf5644b895646f570e99ead5": {
          "model_module": "@jupyter-widgets/base",
          "model_name": "LayoutModel",
          "model_module_version": "1.2.0",
          "state": {
            "_model_module": "@jupyter-widgets/base",
            "_model_module_version": "1.2.0",
            "_model_name": "LayoutModel",
            "_view_count": null,
            "_view_module": "@jupyter-widgets/base",
            "_view_module_version": "1.2.0",
            "_view_name": "LayoutView",
            "align_content": null,
            "align_items": null,
            "align_self": null,
            "border": null,
            "bottom": null,
            "display": null,
            "flex": null,
            "flex_flow": null,
            "grid_area": null,
            "grid_auto_columns": null,
            "grid_auto_flow": null,
            "grid_auto_rows": null,
            "grid_column": null,
            "grid_gap": null,
            "grid_row": null,
            "grid_template_areas": null,
            "grid_template_columns": null,
            "grid_template_rows": null,
            "height": null,
            "justify_content": null,
            "justify_items": null,
            "left": null,
            "margin": null,
            "max_height": null,
            "max_width": null,
            "min_height": null,
            "min_width": null,
            "object_fit": null,
            "object_position": null,
            "order": null,
            "overflow": null,
            "overflow_x": null,
            "overflow_y": null,
            "padding": null,
            "right": null,
            "top": null,
            "visibility": null,
            "width": null
          }
        },
        "d4fbfa97d1f24f2b9daae3686e50a866": {
          "model_module": "@jupyter-widgets/base",
          "model_name": "LayoutModel",
          "model_module_version": "1.2.0",
          "state": {
            "_model_module": "@jupyter-widgets/base",
            "_model_module_version": "1.2.0",
            "_model_name": "LayoutModel",
            "_view_count": null,
            "_view_module": "@jupyter-widgets/base",
            "_view_module_version": "1.2.0",
            "_view_name": "LayoutView",
            "align_content": null,
            "align_items": null,
            "align_self": null,
            "border": null,
            "bottom": null,
            "display": null,
            "flex": null,
            "flex_flow": null,
            "grid_area": null,
            "grid_auto_columns": null,
            "grid_auto_flow": null,
            "grid_auto_rows": null,
            "grid_column": null,
            "grid_gap": null,
            "grid_row": null,
            "grid_template_areas": null,
            "grid_template_columns": null,
            "grid_template_rows": null,
            "height": null,
            "justify_content": null,
            "justify_items": null,
            "left": null,
            "margin": null,
            "max_height": null,
            "max_width": null,
            "min_height": null,
            "min_width": null,
            "object_fit": null,
            "object_position": null,
            "order": null,
            "overflow": null,
            "overflow_x": null,
            "overflow_y": null,
            "padding": null,
            "right": null,
            "top": null,
            "visibility": null,
            "width": null
          }
        },
        "a8ca293df50440b2a9178a9e051639a2": {
          "model_module": "@jupyter-widgets/controls",
          "model_name": "DescriptionStyleModel",
          "model_module_version": "1.5.0",
          "state": {
            "_model_module": "@jupyter-widgets/controls",
            "_model_module_version": "1.5.0",
            "_model_name": "DescriptionStyleModel",
            "_view_count": null,
            "_view_module": "@jupyter-widgets/base",
            "_view_module_version": "1.2.0",
            "_view_name": "StyleView",
            "description_width": ""
          }
        },
        "f721ce156e6843139b9e55bbb6c4b4b0": {
          "model_module": "@jupyter-widgets/base",
          "model_name": "LayoutModel",
          "model_module_version": "1.2.0",
          "state": {
            "_model_module": "@jupyter-widgets/base",
            "_model_module_version": "1.2.0",
            "_model_name": "LayoutModel",
            "_view_count": null,
            "_view_module": "@jupyter-widgets/base",
            "_view_module_version": "1.2.0",
            "_view_name": "LayoutView",
            "align_content": null,
            "align_items": null,
            "align_self": null,
            "border": null,
            "bottom": null,
            "display": null,
            "flex": null,
            "flex_flow": null,
            "grid_area": null,
            "grid_auto_columns": null,
            "grid_auto_flow": null,
            "grid_auto_rows": null,
            "grid_column": null,
            "grid_gap": null,
            "grid_row": null,
            "grid_template_areas": null,
            "grid_template_columns": null,
            "grid_template_rows": null,
            "height": null,
            "justify_content": null,
            "justify_items": null,
            "left": null,
            "margin": null,
            "max_height": null,
            "max_width": null,
            "min_height": null,
            "min_width": null,
            "object_fit": null,
            "object_position": null,
            "order": null,
            "overflow": null,
            "overflow_x": null,
            "overflow_y": null,
            "padding": null,
            "right": null,
            "top": null,
            "visibility": null,
            "width": null
          }
        },
        "7f8cc37dda384a9c965571bdb2357609": {
          "model_module": "@jupyter-widgets/controls",
          "model_name": "ProgressStyleModel",
          "model_module_version": "1.5.0",
          "state": {
            "_model_module": "@jupyter-widgets/controls",
            "_model_module_version": "1.5.0",
            "_model_name": "ProgressStyleModel",
            "_view_count": null,
            "_view_module": "@jupyter-widgets/base",
            "_view_module_version": "1.2.0",
            "_view_name": "StyleView",
            "bar_color": null,
            "description_width": ""
          }
        },
        "fec65bbb347d4caf942cc7674eac33d6": {
          "model_module": "@jupyter-widgets/base",
          "model_name": "LayoutModel",
          "model_module_version": "1.2.0",
          "state": {
            "_model_module": "@jupyter-widgets/base",
            "_model_module_version": "1.2.0",
            "_model_name": "LayoutModel",
            "_view_count": null,
            "_view_module": "@jupyter-widgets/base",
            "_view_module_version": "1.2.0",
            "_view_name": "LayoutView",
            "align_content": null,
            "align_items": null,
            "align_self": null,
            "border": null,
            "bottom": null,
            "display": null,
            "flex": null,
            "flex_flow": null,
            "grid_area": null,
            "grid_auto_columns": null,
            "grid_auto_flow": null,
            "grid_auto_rows": null,
            "grid_column": null,
            "grid_gap": null,
            "grid_row": null,
            "grid_template_areas": null,
            "grid_template_columns": null,
            "grid_template_rows": null,
            "height": null,
            "justify_content": null,
            "justify_items": null,
            "left": null,
            "margin": null,
            "max_height": null,
            "max_width": null,
            "min_height": null,
            "min_width": null,
            "object_fit": null,
            "object_position": null,
            "order": null,
            "overflow": null,
            "overflow_x": null,
            "overflow_y": null,
            "padding": null,
            "right": null,
            "top": null,
            "visibility": null,
            "width": null
          }
        },
        "e51ab504c3b942bcb8412b1e227ced2f": {
          "model_module": "@jupyter-widgets/controls",
          "model_name": "DescriptionStyleModel",
          "model_module_version": "1.5.0",
          "state": {
            "_model_module": "@jupyter-widgets/controls",
            "_model_module_version": "1.5.0",
            "_model_name": "DescriptionStyleModel",
            "_view_count": null,
            "_view_module": "@jupyter-widgets/base",
            "_view_module_version": "1.2.0",
            "_view_name": "StyleView",
            "description_width": ""
          }
        }
      }
    }
  },
  "nbformat": 4,
  "nbformat_minor": 0
}